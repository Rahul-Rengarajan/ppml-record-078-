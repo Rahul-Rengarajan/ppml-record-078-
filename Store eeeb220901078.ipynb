{
 "cells": [
  {
   "cell_type": "code",
   "execution_count": 4,
   "id": "587d2586",
   "metadata": {},
   "outputs": [
    {
     "name": "stdout",
     "output_type": "stream",
     "text": [
      "        a   b   c\n",
      "one    11  21  31\n",
      "two    12  22  32\n",
      "three  13  23  33\n"
     ]
    }
   ],
   "source": [
    "import pandas as pd\n",
    "df=pd.DataFrame([[11,21,31],[12,22,32],[13,23,33]],index=['one','two','three'],columns=['a','b','c'])\n",
    "print(df)"
   ]
  },
  {
   "cell_type": "code",
   "execution_count": 13,
   "id": "78efa08e",
   "metadata": {},
   "outputs": [],
   "source": [
    "df.to_excel('d:\\excel_sheet.xlsx',sheet_name=\"new_sheet\")"
   ]
  },
  {
   "cell_type": "code",
   "execution_count": 29,
   "id": "68b31cec",
   "metadata": {},
   "outputs": [],
   "source": [
    "d=pd.DataFrame([[41,51,61],[42,52,62],[13,53,63]],index=[\"four\",'five','six'],columns=['a','b','c'])\n",
    "d.to_excel('d:\\excel_sheet1.xlsx',sheet_name='new_sheet')\n"
   ]
  },
  {
   "cell_type": "code",
   "execution_count": 30,
   "id": "7f5e6b96",
   "metadata": {},
   "outputs": [
    {
     "name": "stdout",
     "output_type": "stream",
     "text": [
      "  Unnamed: 0   a   b   c\n",
      "0        one  11  21  31\n",
      "1        two  12  22  32\n",
      "2      three  13  23  33\n",
      "0       four  41  51  61\n",
      "1       five  42  52  62\n",
      "2        six  13  53  63\n"
     ]
    },
    {
     "name": "stderr",
     "output_type": "stream",
     "text": [
      "C:\\Users\\Tcs\\AppData\\Local\\Temp\\ipykernel_67560\\2381149256.py:3: FutureWarning: The frame.append method is deprecated and will be removed from pandas in a future version. Use pandas.concat instead.\n",
      "  z=x.append(y)\n"
     ]
    }
   ],
   "source": [
    "x=pd.read_excel('d:\\excel_sheet.xlsx')\n",
    "y=pd.read_excel('d:\\excel_sheet1.xlsx')\n",
    "z=x.append(y)\n",
    "print(z)"
   ]
  },
  {
   "cell_type": "code",
   "execution_count": 31,
   "id": "96cfb4de",
   "metadata": {},
   "outputs": [],
   "source": [
    "z.to_excel('d:\\excel_sheet2.xlsx')"
   ]
  },
  {
   "cell_type": "code",
   "execution_count": 32,
   "id": "2c367aa0",
   "metadata": {},
   "outputs": [
    {
     "name": "stdout",
     "output_type": "stream",
     "text": [
      "  Unnamed: 0   a   b   c\n",
      "0        one  11  21  31\n",
      "1        two  12  22  32\n",
      "2      three  13  23  33\n",
      "2        six  13  53  63\n",
      "0       four  41  51  61\n",
      "1       five  42  52  62\n"
     ]
    }
   ],
   "source": [
    "df=z.sort_values([\"a\"])\n",
    "print(df)"
   ]
  },
  {
   "cell_type": "code",
   "execution_count": 33,
   "id": "960617a8",
   "metadata": {},
   "outputs": [],
   "source": [
    "df.to_excel('d:\\excel_sheet3.xlsx')"
   ]
  },
  {
   "cell_type": "code",
   "execution_count": 35,
   "id": "b20300df",
   "metadata": {},
   "outputs": [
    {
     "name": "stdout",
     "output_type": "stream",
     "text": [
      "   Unnamed: 0.1 Unnamed: 0   a   b   c\n",
      "0             0        one  11  21  31\n",
      "1             1        two  12  22  32\n",
      "2             2      three  13  23  33\n",
      "3             0       four  41  51  61\n",
      "4             1       five  42  52  62\n",
      "5             2        six  13  53  63\n"
     ]
    }
   ],
   "source": [
    "df=pd.read_excel(\"D:\\excel_sheet2.xlsx\")\n",
    "print(df)"
   ]
  },
  {
   "cell_type": "code",
   "execution_count": null,
   "id": "5d551b41",
   "metadata": {},
   "outputs": [],
   "source": []
  }
 ],
 "metadata": {
  "kernelspec": {
   "display_name": "Python 3 (ipykernel)",
   "language": "python",
   "name": "python3"
  },
  "language_info": {
   "codemirror_mode": {
    "name": "ipython",
    "version": 3
   },
   "file_extension": ".py",
   "mimetype": "text/x-python",
   "name": "python",
   "nbconvert_exporter": "python",
   "pygments_lexer": "ipython3",
   "version": "3.9.12"
  }
 },
 "nbformat": 4,
 "nbformat_minor": 5
}
