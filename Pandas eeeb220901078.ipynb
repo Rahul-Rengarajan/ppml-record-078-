{
 "cells": [
  {
   "cell_type": "code",
   "execution_count": 3,
   "id": "e013abf2",
   "metadata": {},
   "outputs": [
    {
     "name": "stdout",
     "output_type": "stream",
     "text": [
      "Empty DataFrame\n",
      "Columns: []\n",
      "Index: []\n"
     ]
    }
   ],
   "source": [
    "#Pandas-Dataframe-Basics\n",
    "\n",
    "import pandas as pd\n",
    "df=pd.DataFrame()\n",
    "print(df)"
   ]
  },
  {
   "cell_type": "code",
   "execution_count": 25,
   "id": "c2e14e33",
   "metadata": {},
   "outputs": [
    {
     "name": "stdout",
     "output_type": "stream",
     "text": [
      "         EMP   ID\n",
      "0  Targaryen  104\n",
      "1  Baratheon  106\n",
      "2  Lannister   78\n",
      "3      Stark  115\n"
     ]
    }
   ],
   "source": [
    "emp=pd.Series([\"Targaryen\",\"Baratheon\",\"Lannister\",\"Stark\"])\n",
    "id=pd.Series([104,106,78,115])\n",
    "frame={\"EMP\":emp,'ID':id}\n",
    "res=pd.DataFrame(frame)\n",
    "print(res)"
   ]
  },
  {
   "cell_type": "code",
   "execution_count": 26,
   "id": "ceabc6a9",
   "metadata": {},
   "outputs": [
    {
     "name": "stdout",
     "output_type": "stream",
     "text": [
      "  STUDENTS  ROLL\n",
      "0    Nisha    65\n",
      "1      Rah    78\n",
      "2   Abbedo    98\n",
      "3      Som   104\n",
      "4     Maan   106\n",
      "5     Vigi   115\n"
     ]
    }
   ],
   "source": [
    "data={\n",
    "    \"STUDENTS\":[\"Nisha\",\"Rah\",\"Abbedo\",\"Som\",\"Maan\",\"Vigi\"],\n",
    "    \"ROLL\":[65,78,98,104,106,115]\n",
    "}\n",
    "print(pd.DataFrame(data))\n"
   ]
  },
  {
   "cell_type": "code",
   "execution_count": 27,
   "id": "9ee7532e",
   "metadata": {},
   "outputs": [
    {
     "name": "stdout",
     "output_type": "stream",
     "text": [
      "0    Targaryen\n",
      "1    Baratheon\n",
      "2    Lannister\n",
      "3        Stark\n",
      "Name: EMP, dtype: object\n"
     ]
    }
   ],
   "source": [
    "print(res['EMP'])"
   ]
  },
  {
   "cell_type": "code",
   "execution_count": 28,
   "id": "35a9c06c",
   "metadata": {},
   "outputs": [
    {
     "name": "stdout",
     "output_type": "stream",
     "text": [
      "         EMP   ID  AGE\n",
      "0  Targaryen  104   76\n",
      "1  Baratheon  106   53\n",
      "2  Lannister   78   45\n",
      "3      Stark  115   99\n"
     ]
    }
   ],
   "source": [
    "res['AGE']=pd.Series([76,53,45,99])\n",
    "print(res)"
   ]
  },
  {
   "cell_type": "code",
   "execution_count": 29,
   "id": "db9813d9",
   "metadata": {},
   "outputs": [
    {
     "name": "stdout",
     "output_type": "stream",
     "text": [
      "         EMP   ID\n",
      "0  Targaryen  104\n",
      "1  Baratheon  106\n",
      "2  Lannister   78\n",
      "3      Stark  115\n"
     ]
    }
   ],
   "source": [
    "del res['AGE']\n",
    "print(res)"
   ]
  },
  {
   "cell_type": "code",
   "execution_count": 30,
   "id": "04efeef5",
   "metadata": {},
   "outputs": [
    {
     "name": "stdout",
     "output_type": "stream",
     "text": [
      "EMP    Targaryen\n",
      "ID           104\n",
      "Name: 0, dtype: object\n"
     ]
    }
   ],
   "source": [
    "print(res.loc[0])"
   ]
  },
  {
   "cell_type": "code",
   "execution_count": 31,
   "id": "37568be3",
   "metadata": {},
   "outputs": [
    {
     "name": "stdout",
     "output_type": "stream",
     "text": [
      "         EMP   ID\n",
      "1  Baratheon  106\n",
      "2  Lannister   78\n"
     ]
    }
   ],
   "source": [
    "print(res[1:3])"
   ]
  },
  {
   "cell_type": "code",
   "execution_count": 12,
   "id": "75861d55",
   "metadata": {},
   "outputs": [
    {
     "name": "stdout",
     "output_type": "stream",
     "text": [
      "     EMP   ID\n",
      "0  Peter  102\n",
      "1   Jack  107\n",
      "2   Sohn  109\n"
     ]
    }
   ],
   "source": [
    "import pandas as pd\n",
    "data={\n",
    "    \"EMP\":[\"Peter\",\"Jack\",\"Sohn\"],\n",
    "    \"ID\":[102,107,109]\n",
    "}\n",
    "res=pd.DataFrame(data)\n",
    "print(res)\n"
   ]
  },
  {
   "cell_type": "code",
   "execution_count": 14,
   "id": "26284315",
   "metadata": {},
   "outputs": [
    {
     "name": "stdout",
     "output_type": "stream",
     "text": [
      "     EMP   ID\n",
      "0  Peter  102\n",
      "1   Jack  107\n",
      "2   Sohn  109\n",
      "0   Jane  123\n",
      "1   Roxy  143\n"
     ]
    }
   ],
   "source": [
    "d2=pd.DataFrame([['Jane',123],['Roxy',143]],columns=['EMP','ID'])\n",
    "res1=pd.concat([res,d2])\n",
    "print(res1)"
   ]
  },
  {
   "cell_type": "code",
   "execution_count": 15,
   "id": "f6a66dfe",
   "metadata": {},
   "outputs": [
    {
     "name": "stdout",
     "output_type": "stream",
     "text": [
      "     EMP   ID\n",
      "0  Peter  102\n",
      "2   Sohn  109\n",
      "0   Jane  123\n"
     ]
    }
   ],
   "source": [
    "print(res1.drop(1))\n"
   ]
  },
  {
   "cell_type": "code",
   "execution_count": 24,
   "id": "6db2ce45",
   "metadata": {},
   "outputs": [
    {
     "name": "stdout",
     "output_type": "stream",
     "text": [
      "   P   Q\n",
      "0  4  16\n",
      "1  4  16\n",
      "2  4  16\n"
     ]
    }
   ],
   "source": [
    "#Pandas-DataFrame-Function\n",
    "\n",
    "import pandas as pd\n",
    "import numpy as np\n",
    "info=pd.DataFrame([[4,16]]*3,columns=['P','Q'])\n",
    "print(info)"
   ]
  },
  {
   "cell_type": "code",
   "execution_count": 25,
   "id": "b621f10b",
   "metadata": {},
   "outputs": [
    {
     "name": "stdout",
     "output_type": "stream",
     "text": [
      "     P    Q\n",
      "0  2.0  4.0\n",
      "1  2.0  4.0\n",
      "2  2.0  4.0\n"
     ]
    }
   ],
   "source": [
    "print(info.apply(np.sqrt)) #square root "
   ]
  },
  {
   "cell_type": "code",
   "execution_count": 31,
   "id": "8354c298",
   "metadata": {},
   "outputs": [
    {
     "name": "stdout",
     "output_type": "stream",
     "text": [
      "P    12\n",
      "Q    48\n",
      "dtype: int64\n"
     ]
    }
   ],
   "source": [
    "print(info.apply(np.sum,axis=0))"
   ]
  },
  {
   "cell_type": "code",
   "execution_count": 32,
   "id": "66e15729",
   "metadata": {},
   "outputs": [
    {
     "name": "stdout",
     "output_type": "stream",
     "text": [
      "0    20\n",
      "1    20\n",
      "2    20\n",
      "dtype: int64\n"
     ]
    }
   ],
   "source": [
    "print(info.apply(np.sum,axis=1))"
   ]
  },
  {
   "cell_type": "code",
   "execution_count": 37,
   "id": "611f3c85",
   "metadata": {},
   "outputs": [
    {
     "name": "stdout",
     "output_type": "stream",
     "text": [
      "   A  B   C\n",
      "0  1  5   3\n",
      "1  6  4   2\n",
      "2  7  9  11\n"
     ]
    }
   ],
   "source": [
    "info1=pd.DataFrame([[1,5,3],[6,4,2],[7,9,11]],columns=['A',\"B\",'C'])\n",
    "print(info1)"
   ]
  },
  {
   "cell_type": "code",
   "execution_count": 45,
   "id": "28a365b4",
   "metadata": {},
   "outputs": [
    {
     "name": "stdout",
     "output_type": "stream",
     "text": [
      "     A  B   C\n",
      "min  1  4   2\n",
      "max  7  9  11\n"
     ]
    }
   ],
   "source": [
    "print(info1.agg(['min','max']))"
   ]
  },
  {
   "cell_type": "code",
   "execution_count": 49,
   "id": "28f8f74a",
   "metadata": {},
   "outputs": [
    {
     "name": "stdout",
     "output_type": "stream",
     "text": [
      "     EMP   ID  Age\n",
      "0   Rick  100   50\n",
      "1  Stark  102   45\n"
     ]
    }
   ],
   "source": [
    "d2=pd.DataFrame([['Rick',100],['Stark',102]],columns=['EMP','ID'])\n",
    "d2['Age']=[50,45]\n",
    "print(d2)"
   ]
  },
  {
   "cell_type": "code",
   "execution_count": 52,
   "id": "bf9c2c62",
   "metadata": {},
   "outputs": [
    {
     "name": "stdout",
     "output_type": "stream",
     "text": [
      "     EMP   ID  Age   Sex\n",
      "0   Rick  100   50  Male\n",
      "1  Stark  102   45  Male\n"
     ]
    }
   ],
   "source": [
    "d=d2.assign(Sex=['Male','Male'])\n",
    "print(d)"
   ]
  },
  {
   "cell_type": "code",
   "execution_count": 65,
   "id": "c9fe7e3f",
   "metadata": {},
   "outputs": [
    {
     "name": "stdout",
     "output_type": "stream",
     "text": [
      "       col3      col4\n",
      "3 -0.359906 -0.074773\n",
      "2 -1.161874  0.968492\n",
      "0 -0.607921 -0.391132\n",
      "4  1.107168 -0.714364\n",
      "1 -1.086113  0.232607\n"
     ]
    }
   ],
   "source": [
    "info3=pd.DataFrame(np.random.randn(5,2),index=[3,2,0,4,1],columns=['col3','col4'])\n",
    "print(info3)"
   ]
  },
  {
   "cell_type": "code",
   "execution_count": 66,
   "id": "244986b7",
   "metadata": {},
   "outputs": [
    {
     "name": "stdout",
     "output_type": "stream",
     "text": [
      "       col3      col4\n",
      "0 -0.607921 -0.391132\n",
      "1 -1.086113  0.232607\n",
      "2 -1.161874  0.968492\n",
      "3 -0.359906 -0.074773\n",
      "4  1.107168 -0.714364\n"
     ]
    }
   ],
   "source": [
    "print(info3.sort_index())"
   ]
  },
  {
   "cell_type": "code",
   "execution_count": 68,
   "id": "f9b70ad7",
   "metadata": {},
   "outputs": [
    {
     "name": "stdout",
     "output_type": "stream",
     "text": [
      "       col3      col4\n",
      "4  1.107168 -0.714364\n",
      "0 -0.607921 -0.391132\n",
      "3 -0.359906 -0.074773\n",
      "1 -1.086113  0.232607\n",
      "2 -1.161874  0.968492\n"
     ]
    }
   ],
   "source": [
    "print(info3.sort_values(by='col4'))"
   ]
  },
  {
   "cell_type": "code",
   "execution_count": 70,
   "id": "538431cc",
   "metadata": {},
   "outputs": [
    {
     "name": "stdout",
     "output_type": "stream",
     "text": [
      "   ID  NAME   SUB\n",
      "0   1  Arya  sub1\n",
      "1   2   Amy  sub3\n",
      "2   3  Alan  sub4\n",
      "3   4  Asta  sub6\n"
     ]
    }
   ],
   "source": [
    "left=pd.DataFrame({\n",
    "    'ID':[1,2,3,4],\n",
    "    'NAME':['Arya','Amy','Alan','Asta'],\n",
    "    'SUB':['sub1','sub3','sub4','sub6']\n",
    "})\n",
    "print(left)"
   ]
  },
  {
   "cell_type": "code",
   "execution_count": 71,
   "id": "8ea5aebc",
   "metadata": {},
   "outputs": [
    {
     "name": "stdout",
     "output_type": "stream",
     "text": [
      "   ID     NAME   SUB\n",
      "0   1    Baron  sub2\n",
      "1   2  Bakugan  sub3\n",
      "2   3     Bara  sub5\n",
      "3   4     Baka  sub6\n"
     ]
    }
   ],
   "source": [
    "right=pd.DataFrame({\n",
    "    'ID':[1,2,3,4],\n",
    "    'NAME':['Baron','Bakugan','Bara','Baka'],\n",
    "    'SUB':['sub2','sub3','sub5','sub6']\n",
    "})\n",
    "print(right)"
   ]
  },
  {
   "cell_type": "code",
   "execution_count": 76,
   "id": "86bf73b2",
   "metadata": {},
   "outputs": [
    {
     "name": "stdout",
     "output_type": "stream",
     "text": [
      "   ID NAME_x SUB_x   NAME_y SUB_y\n",
      "0   1   Arya  sub1    Baron  sub2\n",
      "1   2    Amy  sub3  Bakugan  sub3\n",
      "2   3   Alan  sub4     Bara  sub5\n",
      "3   4   Asta  sub6     Baka  sub6\n"
     ]
    }
   ],
   "source": [
    "print(pd.merge(left,right,on='ID'))"
   ]
  },
  {
   "cell_type": "code",
   "execution_count": 78,
   "id": "b71b206e",
   "metadata": {},
   "outputs": [
    {
     "name": "stdout",
     "output_type": "stream",
     "text": [
      "0    P\n",
      "1    a\n",
      "2    n\n",
      "3    d\n",
      "4    a\n",
      "5    s\n",
      "dtype: object\n"
     ]
    }
   ],
   "source": [
    "#Pandas Series\n",
    "import numpy as np\n",
    "import pandas as pd\n",
    "arr=np.array(['P','a','n','d','a','s'])\n",
    "a=pd.Series(arr)\n",
    "print(a)"
   ]
  },
  {
   "cell_type": "code",
   "execution_count": 82,
   "id": "60d9bb9b",
   "metadata": {},
   "outputs": [
    {
     "name": "stdout",
     "output_type": "stream",
     "text": [
      "x    0.0\n",
      "y    1.0\n",
      "z    2.0\n",
      "dtype: float64\n"
     ]
    }
   ],
   "source": [
    "arr={'x':0.,'y':1.,'z':2.}\n",
    "b=pd.Series(arr)\n",
    "print(b)"
   ]
  },
  {
   "cell_type": "code",
   "execution_count": 83,
   "id": "b6492dc1",
   "metadata": {},
   "outputs": [
    {
     "name": "stdout",
     "output_type": "stream",
     "text": [
      "0    4\n",
      "1    4\n",
      "2    4\n",
      "3    4\n",
      "dtype: int64\n"
     ]
    }
   ],
   "source": [
    "x=pd.Series(4,index=[0,1,2,3])\n",
    "print(x)"
   ]
  },
  {
   "cell_type": "code",
   "execution_count": 84,
   "id": "cdcf91c3",
   "metadata": {},
   "outputs": [
    {
     "name": "stdout",
     "output_type": "stream",
     "text": [
      "a    1\n",
      "b    2\n",
      "c    3\n",
      "dtype: int64\n"
     ]
    }
   ],
   "source": [
    "x=pd.Series([1,2,3],index=['a','b','c'])\n",
    "print(x)"
   ]
  },
  {
   "cell_type": "code",
   "execution_count": 85,
   "id": "329bfb6f",
   "metadata": {},
   "outputs": [
    {
     "name": "stdout",
     "output_type": "stream",
     "text": [
      "0    1\n",
      "1    2\n",
      "2    3\n",
      "3    4\n",
      "dtype: int64\n"
     ]
    }
   ],
   "source": [
    "a=pd.Series(data=[1,2,3,4])\n",
    "print(a)"
   ]
  },
  {
   "cell_type": "code",
   "execution_count": 86,
   "id": "bdfa1a01",
   "metadata": {},
   "outputs": [
    {
     "name": "stdout",
     "output_type": "stream",
     "text": [
      "RangeIndex(start=0, stop=4, step=1)\n"
     ]
    }
   ],
   "source": [
    "print(a.index)"
   ]
  },
  {
   "cell_type": "code",
   "execution_count": 87,
   "id": "0f344a2c",
   "metadata": {},
   "outputs": [
    {
     "name": "stdout",
     "output_type": "stream",
     "text": [
      "[1 2 3 4]\n"
     ]
    }
   ],
   "source": [
    "print(a.values)"
   ]
  },
  {
   "cell_type": "code",
   "execution_count": 88,
   "id": "b0771193",
   "metadata": {},
   "outputs": [
    {
     "name": "stdout",
     "output_type": "stream",
     "text": [
      "(4,)\n"
     ]
    }
   ],
   "source": [
    "print(a.shape)"
   ]
  },
  {
   "cell_type": "code",
   "execution_count": 89,
   "id": "15a2be3c",
   "metadata": {},
   "outputs": [
    {
     "name": "stdout",
     "output_type": "stream",
     "text": [
      "1\n"
     ]
    }
   ],
   "source": [
    "print(a.ndim)"
   ]
  },
  {
   "cell_type": "code",
   "execution_count": 90,
   "id": "ec13e286",
   "metadata": {},
   "outputs": [
    {
     "name": "stdout",
     "output_type": "stream",
     "text": [
      "4\n"
     ]
    }
   ],
   "source": [
    "print(a.size)"
   ]
  },
  {
   "cell_type": "code",
   "execution_count": null,
   "id": "7c3fa680",
   "metadata": {},
   "outputs": [],
   "source": []
  }
 ],
 "metadata": {
  "kernelspec": {
   "display_name": "Python 3 (ipykernel)",
   "language": "python",
   "name": "python3"
  },
  "language_info": {
   "codemirror_mode": {
    "name": "ipython",
    "version": 3
   },
   "file_extension": ".py",
   "mimetype": "text/x-python",
   "name": "python",
   "nbconvert_exporter": "python",
   "pygments_lexer": "ipython3",
   "version": "3.9.13"
  }
 },
 "nbformat": 4,
 "nbformat_minor": 5
}
