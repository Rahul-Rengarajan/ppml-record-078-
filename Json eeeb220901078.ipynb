{
 "cells": [
  {
   "cell_type": "code",
   "execution_count": 10,
   "id": "7cd5f219",
   "metadata": {},
   "outputs": [],
   "source": [
    "f=open(\"D:/textfile123.txt\",'w')"
   ]
  },
  {
   "cell_type": "code",
   "execution_count": 11,
   "id": "bee3f492",
   "metadata": {},
   "outputs": [],
   "source": [
    "f.write(\"Breaking Bad\\n\")\n",
    "f.write(\"Game of Thrones\\n\")\n",
    "f.write(\"Dark\\n\")\n",
    "f.close()"
   ]
  },
  {
   "cell_type": "code",
   "execution_count": 12,
   "id": "9184f420",
   "metadata": {},
   "outputs": [
    {
     "name": "stdout",
     "output_type": "stream",
     "text": [
      "Breaking Bad\n",
      "\n",
      "Game of Thrones\n",
      "\n",
      "Dark\n",
      "\n"
     ]
    }
   ],
   "source": [
    "k=open(\"D:/textfile123.txt\",\"r\")\n",
    "print(k.readline())\n",
    "print(k.readline())\n",
    "print(k.readline())\n",
    "k.close()"
   ]
  },
  {
   "cell_type": "code",
   "execution_count": 13,
   "id": "4d96a226",
   "metadata": {},
   "outputs": [],
   "source": [
    "m=open(\"D:/textfile123.txt\",\"a\")\n",
    "m.write(\"Lost\\n\")\n",
    "m.write(\"The Walking Dead\\n\")\n",
    "m.close()"
   ]
  },
  {
   "cell_type": "code",
   "execution_count": 14,
   "id": "0732edc4",
   "metadata": {},
   "outputs": [
    {
     "name": "stdout",
     "output_type": "stream",
     "text": [
      "Breaking Bad\n",
      "Game of Thrones\n",
      "Dark\n",
      "Lost\n",
      "The Walking Dead\n",
      "\n"
     ]
    }
   ],
   "source": [
    "p=open(\"D:/textfile123.txt\",'r')\n",
    "print(p.read())\n",
    "p.close()"
   ]
  },
  {
   "cell_type": "code",
   "execution_count": 18,
   "id": "0deef2aa",
   "metadata": {},
   "outputs": [
    {
     "name": "stdout",
     "output_type": "stream",
     "text": [
      "['Breaking Bad\\n', 'Game of Thrones\\n', 'Dark\\n', 'Lost\\n', 'The Walking Dead\\n']\n"
     ]
    }
   ],
   "source": [
    "with open(\"D:/textfile123.txt\",'r')as file:\n",
    "    lines=file.readlines()\n",
    "    print(lines)"
   ]
  },
  {
   "cell_type": "code",
   "execution_count": 19,
   "id": "7635e7e9",
   "metadata": {},
   "outputs": [
    {
     "name": "stdout",
     "output_type": "stream",
     "text": [
      "20\n"
     ]
    }
   ],
   "source": [
    "import json\n",
    "x='{\"Name\":\"Jack\",\"Age\":\"20\",\"City\":\"Texas\"}'\n",
    "y=json.loads(x)\n",
    "print(y[\"Age\"])"
   ]
  },
  {
   "cell_type": "code",
   "execution_count": 20,
   "id": "19de799c",
   "metadata": {},
   "outputs": [
    {
     "name": "stdout",
     "output_type": "stream",
     "text": [
      "\"{\\\"Name\\\":\\\"Jack\\\",\\\"Age\\\":\\\"20\\\",\\\"City\\\":\\\"Texas\\\"}\"\n"
     ]
    }
   ],
   "source": [
    "x\n",
    "{\n",
    "    \"Name\":\"Jack\",\n",
    "    \"Age\":\"20\",\n",
    "    \"City\":\"Texas\"\n",
    "}\n",
    "y=json.dumps(x)\n",
    "print(y)"
   ]
  },
  {
   "cell_type": "code",
   "execution_count": null,
   "id": "c4a480e1",
   "metadata": {},
   "outputs": [],
   "source": []
  }
 ],
 "metadata": {
  "kernelspec": {
   "display_name": "Python 3 (ipykernel)",
   "language": "python",
   "name": "python3"
  },
  "language_info": {
   "codemirror_mode": {
    "name": "ipython",
    "version": 3
   },
   "file_extension": ".py",
   "mimetype": "text/x-python",
   "name": "python",
   "nbconvert_exporter": "python",
   "pygments_lexer": "ipython3",
   "version": "3.9.13"
  }
 },
 "nbformat": 4,
 "nbformat_minor": 5
}
