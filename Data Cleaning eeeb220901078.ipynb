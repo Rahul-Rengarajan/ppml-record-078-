{
 "cells": [
  {
   "cell_type": "code",
   "execution_count": 3,
   "id": "c6e034d6",
   "metadata": {},
   "outputs": [
    {
     "name": "stdout",
     "output_type": "stream",
     "text": [
      "        one       two     three\n",
      "a  0.353053  1.697871  0.654483\n",
      "e  1.417505  0.483152  0.489114\n",
      "c -0.488030 -0.676740 -0.197408\n"
     ]
    }
   ],
   "source": [
    "import pandas as pd\n",
    "import numpy as np\n",
    "df=pd.DataFrame(np.random.randn(3,3),index=['a','e','c'],columns=['one','two','three'])\n",
    "print(df)"
   ]
  },
  {
   "cell_type": "code",
   "execution_count": 11,
   "id": "067e6701",
   "metadata": {},
   "outputs": [
    {
     "name": "stdout",
     "output_type": "stream",
     "text": [
      "        one       two     three\n",
      "a  0.353053  1.697871  0.654483\n",
      "b       NaN       NaN       NaN\n",
      "c -0.488030 -0.676740 -0.197408\n"
     ]
    }
   ],
   "source": [
    "df=df.reindex(['a','b','c'])\n",
    "print(df)"
   ]
  },
  {
   "cell_type": "code",
   "execution_count": 12,
   "id": "3da2e7b1",
   "metadata": {},
   "outputs": [
    {
     "name": "stdout",
     "output_type": "stream",
     "text": [
      "        one       two     three\n",
      "a  0.353053  1.697871  0.654483\n",
      "c -0.488030 -0.676740 -0.197408\n"
     ]
    }
   ],
   "source": [
    "a=df.dropna()\n",
    "print(a)"
   ]
  },
  {
   "cell_type": "code",
   "execution_count": 13,
   "id": "2d975a53",
   "metadata": {},
   "outputs": [
    {
     "name": "stdout",
     "output_type": "stream",
     "text": [
      "        one       two     three\n",
      "a  0.353053  1.697871  0.654483\n",
      "b  0.000000  0.000000  0.000000\n",
      "c -0.488030 -0.676740 -0.197408\n",
      "         one        two      three\n",
      "a   0.353053   1.697871   0.654483\n",
      "b  10.000000  10.000000  10.000000\n",
      "c  -0.488030  -0.676740  -0.197408\n"
     ]
    }
   ],
   "source": [
    "a=df.fillna(0)\n",
    "print(a)\n",
    "a=df.fillna(10)\n",
    "print(a)"
   ]
  },
  {
   "cell_type": "code",
   "execution_count": 20,
   "id": "64b5a1b5",
   "metadata": {},
   "outputs": [
    {
     "name": "stdout",
     "output_type": "stream",
     "text": [
      "   one  two\n",
      "0    1    4\n",
      "1    3    5\n",
      "2    5    6\n"
     ]
    }
   ],
   "source": [
    "df1=pd.DataFrame({\n",
    "    'one':[1,2,3],\n",
    "    'two':[10,30,50]\n",
    "})\n",
    "print(df1.replace({2:3,3:5,10:4,30:5,50:6}))"
   ]
  },
  {
   "cell_type": "code",
   "execution_count": 28,
   "id": "1c6ddec7",
   "metadata": {},
   "outputs": [
    {
     "name": "stdout",
     "output_type": "stream",
     "text": [
      "a    False\n",
      "b     True\n",
      "c    False\n",
      "Name: one, dtype: bool\n"
     ]
    }
   ],
   "source": [
    "print(df['one'].isnull())"
   ]
  },
  {
   "cell_type": "code",
   "execution_count": 29,
   "id": "989cf904",
   "metadata": {},
   "outputs": [
    {
     "name": "stdout",
     "output_type": "stream",
     "text": [
      "        one       two     three\n",
      "a  0.353053  1.697871  0.654483\n",
      "b  0.353053  1.697871  0.654483\n",
      "c -0.488030 -0.676740 -0.197408\n"
     ]
    }
   ],
   "source": [
    "print(df.fillna(method='pad'))"
   ]
  },
  {
   "cell_type": "code",
   "execution_count": 30,
   "id": "fff27979",
   "metadata": {},
   "outputs": [
    {
     "name": "stdout",
     "output_type": "stream",
     "text": [
      "        one       two     three\n",
      "a  0.353053  1.697871  0.654483\n",
      "b -0.488030 -0.676740 -0.197408\n",
      "c -0.488030 -0.676740 -0.197408\n"
     ]
    }
   ],
   "source": [
    "print(df.fillna(method='bfill'))"
   ]
  },
  {
   "cell_type": "code",
   "execution_count": null,
   "id": "8860cfe4",
   "metadata": {},
   "outputs": [],
   "source": []
  }
 ],
 "metadata": {
  "kernelspec": {
   "display_name": "Python 3 (ipykernel)",
   "language": "python",
   "name": "python3"
  },
  "language_info": {
   "codemirror_mode": {
    "name": "ipython",
    "version": 3
   },
   "file_extension": ".py",
   "mimetype": "text/x-python",
   "name": "python",
   "nbconvert_exporter": "python",
   "pygments_lexer": "ipython3",
   "version": "3.9.13"
  }
 },
 "nbformat": 4,
 "nbformat_minor": 5
}
